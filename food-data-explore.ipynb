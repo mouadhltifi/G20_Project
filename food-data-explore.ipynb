{
 "cells": [
  {
   "cell_type": "code",
   "id": "d4fea67dff55d1e",
   "metadata": {
    "ExecuteTime": {
     "end_time": "2025-03-20T16:49:25.808193Z",
     "start_time": "2025-03-20T16:49:25.804847Z"
    }
   },
   "source": [
    "import pandas as pd\n",
    "import matplotlib.pyplot as plt\n",
    "import numpy as np"
   ],
   "outputs": [],
   "execution_count": 17
  },
  {
   "metadata": {},
   "cell_type": "code",
   "outputs": [],
   "execution_count": null,
   "source": [
    "# Load the CSV file into a DataFrame (replace 'data.csv' with your file path)\n",
    "df = pd.read_csv('/Users/pablo/Desktop/Start_Hack_2025_G20/hdx_hapi_food_price_global.csv',low_memory=False)"
   ],
   "id": "710c1d7ce011a52a"
  },
  {
   "metadata": {},
   "cell_type": "code",
   "outputs": [],
   "execution_count": null,
   "source": [
    "# Display the first few rows to get an idea of the dataset\n",
    "print(\"First 5 rows of the dataset:\")\n",
    "print(df.head())"
   ],
   "id": "fdceb8472dfaa179"
  },
  {
   "metadata": {},
   "cell_type": "code",
   "outputs": [],
   "execution_count": null,
   "source": [
    "# Get a summary of the DataFrame including data types and non-null counts\n",
    "print(\"\\nDataFrame Info:\")\n",
    "print(df.info())"
   ],
   "id": "8fd3da025f7ca39b"
  },
  {
   "metadata": {},
   "cell_type": "code",
   "outputs": [],
   "execution_count": null,
   "source": [
    "# Check for missing values in each column\n",
    "print(\"\\nMissing Values:\")\n",
    "print(df.isnull().sum())"
   ],
   "id": "779954a25d69d38f"
  },
  {
   "metadata": {},
   "cell_type": "code",
   "outputs": [],
   "execution_count": null,
   "source": "l = np.unique(df['location_code'].values)",
   "id": "203a83f0866a3337"
  },
  {
   "metadata": {},
   "cell_type": "code",
   "outputs": [],
   "execution_count": null,
   "source": [
    "# Filter rows where column 'X' equals 'MRT'\n",
    "filtered_df = df[df['X'] == 'MRT']\n",
    "\n",
    "# Display the filtered rows\n",
    "print(filtered_df)"
   ],
   "id": "8a08ca6ea87db804"
  },
  {
   "metadata": {},
   "cell_type": "code",
   "outputs": [],
   "execution_count": null,
   "source": [
    "\n",
    "\n",
    "\n",
    "\n",
    "\n",
    "\n",
    "\n",
    "# Example Analysis: If your dataset has an 'Age' column, visualize its distribution.\n",
    "if 'Age' in df.columns:\n",
    "    plt.figure()\n",
    "    df['Age'].hist(bins=20)\n",
    "    plt.title('Age Distribution')\n",
    "    plt.xlabel('Age')\n",
    "    plt.ylabel('Frequency')\n",
    "    plt.show()\n",
    "\n",
    "# Example Analysis: If there are 'Gender' and 'Age' columns,\n",
    "# calculate and plot the average age by gender.\n",
    "if 'Gender' in df.columns and 'Age' in df.columns:\n",
    "    avg_age_by_gender = df.groupby('Gender')['Age'].mean()\n",
    "    print(\"\\nAverage Age by Gender:\")\n",
    "    print(avg_age_by_gender)\n",
    "    \n",
    "    plt.figure()\n",
    "    avg_age_by_gender.plot(kind='bar')\n",
    "    plt.title('Average Age by Gender')\n",
    "    plt.xlabel('Gender')\n",
    "    plt.ylabel('Average Age')\n",
    "    plt.show()\n"
   ],
   "id": "6f9a80fa65419642"
  }
 ],
 "metadata": {
  "kernelspec": {
   "display_name": "Python 3 (ipykernel)",
   "language": "python",
   "name": "python3"
  },
  "language_info": {
   "codemirror_mode": {
    "name": "ipython",
    "version": 3
   },
   "file_extension": ".py",
   "mimetype": "text/x-python",
   "name": "python",
   "nbconvert_exporter": "python",
   "pygments_lexer": "ipython3",
   "version": "3.11.6"
  }
 },
 "nbformat": 4,
 "nbformat_minor": 5
}
